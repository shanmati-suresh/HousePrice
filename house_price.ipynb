{
 "cells": [
  {
   "cell_type": "code",
   "execution_count": 2,
   "metadata": {},
   "outputs": [],
   "source": [
    "import pandas as pd\n",
    "from sklearn.model_selection import train_test_split\n",
    "from sklearn.ensemble import RandomForestRegressor\n",
    "from sklearn.metrics import mean_squared_error\n",
    "from sklearn.preprocessing import LabelEncoder\n",
    "from sklearn.pipeline import Pipeline\n",
    "\n",
    "# Load the data\n",
    "test_df = pd.read_csv(r\"C:\\Study Material\\DM\\Project\\house-prices-advanced-regression-techniques (1)\\test.csv\")\n",
    "train_df = pd.read_csv(r\"C:\\Study Material\\DM\\Project\\house-prices-advanced-regression-techniques (1)\\train.csv\")\n",
    "\n",
    "\n",
    "# Separate target and features\n",
    "X = train_df.drop(columns=['SalePrice', 'Id'])\n",
    "y = train_df['SalePrice']\n",
    "X_test = test_df.drop(columns=['Id'])"
   ]
  },
  {
   "cell_type": "code",
   "execution_count": 3,
   "metadata": {},
   "outputs": [],
   "source": [
    "# Initialize the LabelEncoder\n",
    "encode = LabelEncoder()\n",
    "\n",
    "# Apply Label Encoding to categorical columns\n",
    "for col in X.columns:\n",
    "    if X[col].dtype == 'object' or X[col].dtype.name == 'category':\n",
    "        X[col] = encode.fit_transform(X[col])\n",
    "\n",
    "# Repeat for test data\n",
    "for col in X_test.columns:\n",
    "    if X_test[col].dtype == 'object' or X_test[col].dtype.name == 'category':\n",
    "        X_test[col] = encode.fit_transform(X_test[col])"
   ]
  },
  {
   "cell_type": "code",
   "execution_count": 4,
   "metadata": {},
   "outputs": [
    {
     "name": "stdout",
     "output_type": "stream",
     "text": [
      "Validation RMSE: 32670.737229984752\n"
     ]
    },
    {
     "name": "stderr",
     "output_type": "stream",
     "text": [
      "c:\\Users\\shanm\\AppData\\Local\\Programs\\Python\\Python312\\Lib\\site-packages\\sklearn\\metrics\\_regression.py:492: FutureWarning: 'squared' is deprecated in version 1.4 and will be removed in 1.6. To calculate the root mean squared error, use the function'root_mean_squared_error'.\n",
      "  warnings.warn(\n"
     ]
    }
   ],
   "source": [
    "# Define and train the model as before\n",
    "model = RandomForestRegressor(random_state=0)\n",
    "rf_pipeline = Pipeline(steps=[('model', model)])\n",
    "\n",
    "# Train-test split\n",
    "X_train, X_val, y_train, y_val = train_test_split(X, y, test_size=0.2, random_state=0)\n",
    "\n",
    "# Train the model\n",
    "rf_pipeline.fit(X_train, y_train)\n",
    "\n",
    "# Validation predictions\n",
    "y_pred = rf_pipeline.predict(X_val)\n",
    "\n",
    "# Calculate RMSE\n",
    "rmse = mean_squared_error(y_val, y_pred, squared=False)\n",
    "print(f'Validation RMSE: {rmse}')\n",
    "\n",
    "# Predict on test data\n",
    "y_test_pred = rf_pipeline.predict(X_test)"
   ]
  },
  {
   "cell_type": "code",
   "execution_count": 5,
   "metadata": {},
   "outputs": [],
   "source": [
    "# Prepare submission\n",
    "submission_df = pd.DataFrame({\n",
    "    'Id': test_df['Id'],\n",
    "    'SalePrice': y_test_pred\n",
    "})\n",
    "submission_df.to_csv('house_price_submission.csv', index=False)\n"
   ]
  }
 ],
 "metadata": {
  "kernelspec": {
   "display_name": "Python 3",
   "language": "python",
   "name": "python3"
  },
  "language_info": {
   "codemirror_mode": {
    "name": "ipython",
    "version": 3
   },
   "file_extension": ".py",
   "mimetype": "text/x-python",
   "name": "python",
   "nbconvert_exporter": "python",
   "pygments_lexer": "ipython3",
   "version": "3.12.3"
  }
 },
 "nbformat": 4,
 "nbformat_minor": 2
}
